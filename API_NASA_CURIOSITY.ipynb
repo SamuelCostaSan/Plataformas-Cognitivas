{
  "nbformat": 4,
  "nbformat_minor": 0,
  "metadata": {
    "colab": {
      "provenance": []
    },
    "kernelspec": {
      "name": "python3",
      "display_name": "Python 3"
    },
    "language_info": {
      "name": "python"
    }
  },
  "cells": [
    {
      "cell_type": "code",
      "execution_count": 7,
      "metadata": {
        "id": "jvTrEMZl8_HJ",
        "colab": {
          "base_uri": "https://localhost:8080/"
        },
        "outputId": "79ae07e5-42cf-4e88-a214-daa2f30bd53d"
      },
      "outputs": [
        {
          "output_type": "stream",
          "name": "stdout",
          "text": [
            "<Response [200]>\n",
            "Link: http://mars.jpl.nasa.gov/msl-raw-images/proj/msl/redops/ods/surface/sol/01000/opgs/edr/ccam/CR0_486264264EDR_F0481570CCAM02000M_.JPG\n"
          ]
        }
      ],
      "source": [
        "import requests\n",
        "import json\n",
        "resposta= requests.get(\"https://api.nasa.gov/mars-photos/api/v1/rovers/curiosity/photos?camera=CHEMCAM&sol=1000&api_key=7dSdQ5EdDLf7hhjusLN2U3kKoS439fVZzdS3ZcVX\")\n",
        "\n",
        "print(resposta)\n",
        "resposta.json()\n",
        "\n",
        "print(\"Link:\", \"http://mars.jpl.nasa.gov/msl-raw-images/proj/msl/redops/ods/surface/sol/01000/opgs/edr/ccam/CR0_486264264EDR_F0481570CCAM02000M_.JPG\")\n"
      ]
    }
  ]
}