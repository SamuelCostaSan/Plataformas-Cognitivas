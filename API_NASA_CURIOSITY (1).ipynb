{
  "nbformat": 4,
  "nbformat_minor": 0,
  "metadata": {
    "colab": {
      "provenance": []
    },
    "kernelspec": {
      "name": "python3",
      "display_name": "Python 3"
    },
    "language_info": {
      "name": "python"
    }
  },
  "cells": [
    {
      "cell_type": "code",
      "source": [
        "import requests\n",
        "url = \"https://api.nasa.gov/mars-photos/api/v1/rovers/curiosity/photos?camera=CHEMCAM&sol=2000&api_key=7dSdQ5EdDLf7hhjusLN2U3kKoS439fVZzdS3ZcVX\"\n",
        "x = requests.get(url)\n",
        "\n",
        "for c in x.json()['photos']:\n",
        "  a = c['img_src']\n",
        "  print('Link:', a)"
      ],
      "metadata": {
        "colab": {
          "base_uri": "https://localhost:8080/"
        },
        "id": "IYZM7aRK3vyB",
        "outputId": "5533f7ca-0f09-410a-b254-70e27b94fb4d"
      },
      "execution_count": 75,
      "outputs": [
        {
          "output_type": "stream",
          "name": "stdout",
          "text": [
            "Link: http://mars.jpl.nasa.gov/msl-raw-images/proj/msl/redops/ods/surface/sol/02000/opgs/edr/ccam/CR0_575037101EDR_F0682626CCAM02000M_.JPG\n",
            "Link: http://mars.jpl.nasa.gov/msl-raw-images/proj/msl/redops/ods/surface/sol/02000/opgs/edr/ccam/CR0_575036497EDR_F0682626CCAM02000M_.JPG\n",
            "Link: http://mars.jpl.nasa.gov/msl-raw-images/proj/msl/redops/ods/surface/sol/02000/opgs/edr/ccam/CR0_575036382EDR_F0682626CCAM01000M_.JPG\n",
            "Link: http://mars.jpl.nasa.gov/msl-raw-images/proj/msl/redops/ods/surface/sol/02000/opgs/edr/ccam/CR0_575035776EDR_F0682626CCAM01000M_.JPG\n",
            "Link: http://mars.jpl.nasa.gov/msl-raw-images/proj/msl/redops/ods/surface/sol/02000/soas/rdr/ccam/CR0_575037101PRC_F0682626CCAM02000L1.PNG\n",
            "Link: http://mars.jpl.nasa.gov/msl-raw-images/proj/msl/redops/ods/surface/sol/02000/soas/rdr/ccam/CR0_575036497PRC_F0682626CCAM02000L1.PNG\n",
            "Link: http://mars.jpl.nasa.gov/msl-raw-images/proj/msl/redops/ods/surface/sol/02000/soas/rdr/ccam/CR0_575036382PRC_F0682626CCAM01000L1.PNG\n",
            "Link: http://mars.jpl.nasa.gov/msl-raw-images/proj/msl/redops/ods/surface/sol/02000/soas/rdr/ccam/CR0_575035776PRC_F0682626CCAM01000L1.PNG\n"
          ]
        }
      ]
    },
    {
      "cell_type": "code",
      "source": [
        "import requests\n",
        "url = \"https://api.nasa.gov/mars-photos/api/v1/rovers/curiosity/photos?camera=CHEMCAM&sol=2000&api_key=7dSdQ5EdDLf7hhjusLN2U3kKoS439fVZzdS3ZcVX\"\n",
        "x = 0\n",
        "while url:\n",
        "  resposta = requests.get(url)\n",
        "  a = resposta.json()['photos'][x]['img_src']\n",
        "  print(a)\n",
        "  x+=1\n",
        "\n",
        "\n"
      ],
      "metadata": {
        "colab": {
          "base_uri": "https://localhost:8080/",
          "height": 349
        },
        "id": "jgfV2cU7whkD",
        "outputId": "275bc41e-3165-444e-9719-3a8eec4afae2"
      },
      "execution_count": 76,
      "outputs": [
        {
          "output_type": "stream",
          "name": "stdout",
          "text": [
            "http://mars.jpl.nasa.gov/msl-raw-images/proj/msl/redops/ods/surface/sol/02000/opgs/edr/ccam/CR0_575037101EDR_F0682626CCAM02000M_.JPG\n",
            "http://mars.jpl.nasa.gov/msl-raw-images/proj/msl/redops/ods/surface/sol/02000/opgs/edr/ccam/CR0_575036497EDR_F0682626CCAM02000M_.JPG\n",
            "http://mars.jpl.nasa.gov/msl-raw-images/proj/msl/redops/ods/surface/sol/02000/opgs/edr/ccam/CR0_575036382EDR_F0682626CCAM01000M_.JPG\n",
            "http://mars.jpl.nasa.gov/msl-raw-images/proj/msl/redops/ods/surface/sol/02000/opgs/edr/ccam/CR0_575035776EDR_F0682626CCAM01000M_.JPG\n",
            "http://mars.jpl.nasa.gov/msl-raw-images/proj/msl/redops/ods/surface/sol/02000/soas/rdr/ccam/CR0_575037101PRC_F0682626CCAM02000L1.PNG\n",
            "http://mars.jpl.nasa.gov/msl-raw-images/proj/msl/redops/ods/surface/sol/02000/soas/rdr/ccam/CR0_575036497PRC_F0682626CCAM02000L1.PNG\n",
            "http://mars.jpl.nasa.gov/msl-raw-images/proj/msl/redops/ods/surface/sol/02000/soas/rdr/ccam/CR0_575036382PRC_F0682626CCAM01000L1.PNG\n",
            "http://mars.jpl.nasa.gov/msl-raw-images/proj/msl/redops/ods/surface/sol/02000/soas/rdr/ccam/CR0_575035776PRC_F0682626CCAM01000L1.PNG\n"
          ]
        },
        {
          "output_type": "error",
          "ename": "IndexError",
          "evalue": "list index out of range",
          "traceback": [
            "\u001b[0;31m---------------------------------------------------------------------------\u001b[0m",
            "\u001b[0;31mIndexError\u001b[0m                                Traceback (most recent call last)",
            "\u001b[0;32m<ipython-input-76-272e72fcab52>\u001b[0m in \u001b[0;36m<cell line: 4>\u001b[0;34m()\u001b[0m\n\u001b[1;32m      4\u001b[0m \u001b[0;32mwhile\u001b[0m \u001b[0murl\u001b[0m\u001b[0;34m:\u001b[0m\u001b[0;34m\u001b[0m\u001b[0;34m\u001b[0m\u001b[0m\n\u001b[1;32m      5\u001b[0m   \u001b[0mresposta\u001b[0m \u001b[0;34m=\u001b[0m \u001b[0mrequests\u001b[0m\u001b[0;34m.\u001b[0m\u001b[0mget\u001b[0m\u001b[0;34m(\u001b[0m\u001b[0murl\u001b[0m\u001b[0;34m)\u001b[0m\u001b[0;34m\u001b[0m\u001b[0;34m\u001b[0m\u001b[0m\n\u001b[0;32m----> 6\u001b[0;31m   \u001b[0ma\u001b[0m \u001b[0;34m=\u001b[0m \u001b[0mresposta\u001b[0m\u001b[0;34m.\u001b[0m\u001b[0mjson\u001b[0m\u001b[0;34m(\u001b[0m\u001b[0;34m)\u001b[0m\u001b[0;34m[\u001b[0m\u001b[0;34m'photos'\u001b[0m\u001b[0;34m]\u001b[0m\u001b[0;34m[\u001b[0m\u001b[0mx\u001b[0m\u001b[0;34m]\u001b[0m\u001b[0;34m[\u001b[0m\u001b[0;34m'img_src'\u001b[0m\u001b[0;34m]\u001b[0m\u001b[0;34m\u001b[0m\u001b[0;34m\u001b[0m\u001b[0m\n\u001b[0m\u001b[1;32m      7\u001b[0m   \u001b[0mprint\u001b[0m\u001b[0;34m(\u001b[0m\u001b[0ma\u001b[0m\u001b[0;34m)\u001b[0m\u001b[0;34m\u001b[0m\u001b[0;34m\u001b[0m\u001b[0m\n\u001b[1;32m      8\u001b[0m   \u001b[0mx\u001b[0m\u001b[0;34m+=\u001b[0m\u001b[0;36m1\u001b[0m\u001b[0;34m\u001b[0m\u001b[0;34m\u001b[0m\u001b[0m\n",
            "\u001b[0;31mIndexError\u001b[0m: list index out of range"
          ]
        }
      ]
    }
  ]
}